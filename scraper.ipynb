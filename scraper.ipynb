{
 "cells": [
  {
   "cell_type": "code",
   "execution_count": 3,
   "id": "8a27d4f0",
   "metadata": {},
   "outputs": [
    {
     "name": "stdout",
     "output_type": "stream",
     "text": [
      "Collecting pandas\n",
      "  Using cached pandas-1.3.5-cp37-cp37m-win_amd64.whl (10.0 MB)\n",
      "Collecting pytz>=2017.3\n",
      "  Downloading pytz-2022.7.1-py2.py3-none-any.whl (499 kB)\n",
      "     -------------------------------------- 499.4/499.4 kB 5.2 MB/s eta 0:00:00\n",
      "Requirement already satisfied: python-dateutil>=2.7.3 in c:\\users\\mohi\\appdata\\local\\programs\\python\\python37\\lib\\site-packages (from pandas) (2.8.2)\n",
      "Requirement already satisfied: numpy>=1.17.3 in c:\\users\\mohi\\appdata\\local\\programs\\python\\python37\\lib\\site-packages (from pandas) (1.21.6)\n",
      "Requirement already satisfied: six>=1.5 in c:\\users\\mohi\\appdata\\local\\programs\\python\\python37\\lib\\site-packages (from python-dateutil>=2.7.3->pandas) (1.16.0)\n",
      "Installing collected packages: pytz, pandas\n",
      "Successfully installed pandas-1.3.5 pytz-2022.7.1\n",
      "Note: you may need to restart the kernel to use updated packages.\n"
     ]
    }
   ],
   "source": [
    "pip install pandas"
   ]
  },
  {
   "cell_type": "code",
   "execution_count": 5,
   "id": "a84ca0fc",
   "metadata": {},
   "outputs": [
    {
     "name": "stdout",
     "output_type": "stream",
     "text": [
      "Collecting lxml\n",
      "  Downloading lxml-4.9.2-cp37-cp37m-win_amd64.whl (3.8 MB)\n",
      "     ---------------------------------------- 3.8/3.8 MB 15.3 MB/s eta 0:00:00\n",
      "Installing collected packages: lxml\n",
      "Successfully installed lxml-4.9.2\n",
      "Note: you may need to restart the kernel to use updated packages.\n"
     ]
    }
   ],
   "source": [
    "pip install lxml"
   ]
  },
  {
   "cell_type": "code",
   "execution_count": 2,
   "id": "4d294b1d",
   "metadata": {},
   "outputs": [
    {
     "name": "stdout",
     "output_type": "stream",
     "text": [
      "Collecting html5\n",
      "  Downloading html5-0.0.9-py2.py3-none-any.whl (112 kB)\n",
      "     -------------------------------------- 112.4/112.4 kB 1.6 MB/s eta 0:00:00\n",
      "Requirement already satisfied: six in c:\\users\\mohi\\appdata\\local\\programs\\python\\python37\\lib\\site-packages (from html5) (1.16.0)\n",
      "Requirement already satisfied: webencodings in c:\\users\\mohi\\appdata\\local\\programs\\python\\python37\\lib\\site-packages (from html5) (0.5.1)\n",
      "Requirement already satisfied: setuptools>=18.5 in c:\\users\\mohi\\appdata\\local\\programs\\python\\python37\\lib\\site-packages (from html5) (39.0.1)\n",
      "Installing collected packages: html5\n",
      "Successfully installed html5-0.0.9\n",
      "Note: you may need to restart the kernel to use updated packages.\n"
     ]
    }
   ],
   "source": [
    "pip install html5"
   ]
  },
  {
   "cell_type": "code",
   "execution_count": 14,
   "id": "8b804758",
   "metadata": {},
   "outputs": [
    {
     "name": "stdout",
     "output_type": "stream",
     "text": [
      "                            2                      4                   5\n",
      "0                Company name               Industry  Total revenue 2021\n",
      "1               OMV Petrom SA  Petroleum/Natural Gas              6043.5\n",
      "2         Automobile-Dacia SA            Automobiles              4398.0\n",
      "3    OMV Petrom Marketing SRL  Petroleum/Natural Gas              3858.8\n",
      "4                 Petrol d.d.  Petroleum/Natural Gas              3858.6\n",
      "..                        ...                    ...                 ...\n",
      "96         Bingo d.o.o. Tuzla       Wholesale/Retail               716.3\n",
      "97        Porsche Romania SRL            Automobiles               709.4\n",
      "98             Mercator-S DOO       Wholesale/Retail               702.2\n",
      "99            Enel Energie SA            Electricity               701.8\n",
      "100                 Arctic SA            Electronics               698.7\n",
      "\n",
      "[101 rows x 3 columns]\n"
     ]
    }
   ],
   "source": [
    "import pandas as pd\n",
    "\n",
    "companies = pd.concat(pd.read_html(\"https://top100.seenews.com/rankings/top-100-companies/\"))\n",
    "companies = companies[[2,4,5]]\n",
    "print(companies)"
   ]
  },
  {
   "cell_type": "code",
   "execution_count": null,
   "id": "32f31f26",
   "metadata": {},
   "outputs": [],
   "source": []
  }
 ],
 "metadata": {
  "kernelspec": {
   "display_name": "Python 3 (ipykernel)",
   "language": "python",
   "name": "python3"
  },
  "language_info": {
   "codemirror_mode": {
    "name": "ipython",
    "version": 3
   },
   "file_extension": ".py",
   "mimetype": "text/x-python",
   "name": "python",
   "nbconvert_exporter": "python",
   "pygments_lexer": "ipython3",
   "version": "3.7.1"
  }
 },
 "nbformat": 4,
 "nbformat_minor": 5
}

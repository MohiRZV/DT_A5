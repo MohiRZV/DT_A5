{
 "cells": [
  {
   "cell_type": "code",
   "execution_count": 3,
   "id": "3fb7fb34",
   "metadata": {},
   "outputs": [
    {
     "name": "stdout",
     "output_type": "stream",
     "text": [
      "Collecting pandas\n",
      "  Using cached pandas-1.3.5-cp37-cp37m-win_amd64.whl (10.0 MB)\n",
      "Collecting pytz>=2017.3\n",
      "  Downloading pytz-2022.7.1-py2.py3-none-any.whl (499 kB)\n",
      "     -------------------------------------- 499.4/499.4 kB 5.2 MB/s eta 0:00:00\n",
      "Requirement already satisfied: python-dateutil>=2.7.3 in c:\\users\\mohi\\appdata\\local\\programs\\python\\python37\\lib\\site-packages (from pandas) (2.8.2)\n",
      "Requirement already satisfied: numpy>=1.17.3 in c:\\users\\mohi\\appdata\\local\\programs\\python\\python37\\lib\\site-packages (from pandas) (1.21.6)\n",
      "Requirement already satisfied: six>=1.5 in c:\\users\\mohi\\appdata\\local\\programs\\python\\python37\\lib\\site-packages (from python-dateutil>=2.7.3->pandas) (1.16.0)\n",
      "Installing collected packages: pytz, pandas\n",
      "Successfully installed pandas-1.3.5 pytz-2022.7.1\n",
      "Note: you may need to restart the kernel to use updated packages.\n"
     ]
    }
   ],
   "source": [
    "pip install pandas"
   ]
  },
  {
   "cell_type": "code",
   "execution_count": 5,
   "id": "0758fbe2",
   "metadata": {},
   "outputs": [
    {
     "name": "stdout",
     "output_type": "stream",
     "text": [
      "Collecting lxml\n",
      "  Downloading lxml-4.9.2-cp37-cp37m-win_amd64.whl (3.8 MB)\n",
      "     ---------------------------------------- 3.8/3.8 MB 15.3 MB/s eta 0:00:00\n",
      "Installing collected packages: lxml\n",
      "Successfully installed lxml-4.9.2\n",
      "Note: you may need to restart the kernel to use updated packages.\n"
     ]
    }
   ],
   "source": [
    "pip install lxml"
   ]
  },
  {
   "cell_type": "code",
   "execution_count": 2,
   "id": "de342865",
   "metadata": {},
   "outputs": [
    {
     "name": "stdout",
     "output_type": "stream",
     "text": [
      "Collecting html5\n",
      "  Downloading html5-0.0.9-py2.py3-none-any.whl (112 kB)\n",
      "     -------------------------------------- 112.4/112.4 kB 1.6 MB/s eta 0:00:00\n",
      "Requirement already satisfied: six in c:\\users\\mohi\\appdata\\local\\programs\\python\\python37\\lib\\site-packages (from html5) (1.16.0)\n",
      "Requirement already satisfied: webencodings in c:\\users\\mohi\\appdata\\local\\programs\\python\\python37\\lib\\site-packages (from html5) (0.5.1)\n",
      "Requirement already satisfied: setuptools>=18.5 in c:\\users\\mohi\\appdata\\local\\programs\\python\\python37\\lib\\site-packages (from html5) (39.0.1)\n",
      "Installing collected packages: html5\n",
      "Successfully installed html5-0.0.9\n",
      "Note: you may need to restart the kernel to use updated packages.\n"
     ]
    }
   ],
   "source": [
    "pip install html5"
   ]
  },
  {
   "cell_type": "code",
   "execution_count": 28,
   "id": "4ae3b19d",
   "metadata": {},
   "outputs": [],
   "source": [
    "import pandas as pd\n",
    "\n",
    "companies = pd.concat(pd.read_html(\"https://en.wikipedia.org/wiki/List_of_largest_European_companies_by_revenue\"))\n",
    "companies = companies[['Company', 'Industry', 'Headquarters']]"
   ]
  },
  {
   "cell_type": "code",
   "execution_count": 46,
   "id": "4ba5dd70",
   "metadata": {},
   "outputs": [
    {
     "data": {
      "text/plain": [
       "Headquarters\n",
       "France    32\n",
       "Name: Headquarters, dtype: int64"
      ]
     },
     "execution_count": 46,
     "metadata": {},
     "output_type": "execute_result"
    }
   ],
   "source": [
    "companies.groupby(['Headquarters'])['Headquarters'].count().sort_values(ascending = False).head(1)"
   ]
  },
  {
   "cell_type": "code",
   "execution_count": null,
   "id": "64cb1391",
   "metadata": {},
   "outputs": [],
   "source": []
  }
 ],
 "metadata": {
  "kernelspec": {
   "display_name": "Python 3 (ipykernel)",
   "language": "python",
   "name": "python3"
  },
  "language_info": {
   "codemirror_mode": {
    "name": "ipython",
    "version": 3
   },
   "file_extension": ".py",
   "mimetype": "text/x-python",
   "name": "python",
   "nbconvert_exporter": "python",
   "pygments_lexer": "ipython3",
   "version": "3.7.1"
  }
 },
 "nbformat": 4,
 "nbformat_minor": 5
}
